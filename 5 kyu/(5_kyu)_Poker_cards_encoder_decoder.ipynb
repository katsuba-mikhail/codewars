{
  "nbformat": 4,
  "nbformat_minor": 0,
  "metadata": {
    "colab": {
      "name": "20210410 (5 kyu) Poker cards encoder/decoder",
      "provenance": []
    },
    "kernelspec": {
      "name": "python3",
      "display_name": "Python 3"
    },
    "language_info": {
      "name": "python"
    }
  },
  "cells": [
    {
      "cell_type": "markdown",
      "metadata": {
        "id": "PQzvw_mEab0f"
      },
      "source": [
        "# [(5 kyu) Poker cards encoder/decoder](https://www.codewars.com/kata/52ebe4608567ade7d700044a)"
      ]
    },
    {
      "cell_type": "markdown",
      "metadata": {
        "id": "4jDFwf78ZgXU"
      },
      "source": [
        "<div class=\"markdown prose max-w-5xl mx-auto\" id=\"description\"><p>Consider a deck of 52 cards, which are represented by a string containing their suit and face value.</p>\n",
        "<p>Your task is to write two functions <code>encode</code> and <code>decode</code> that translate an array of cards to/from an array of integer codes. </p>\n",
        "<ul>\n",
        "<li><p>function <code>encode</code> :</p>\n",
        "<p>input  : array of strings (symbols)</p>\n",
        "<p>output : array of integers (codes) sorted in ascending order</p>\n",
        "</li>\n",
        "<li><p>function <code>decode</code> :</p>\n",
        "<p>input   : array of integers (codes)</p>\n",
        "<p>output  : array of strings (symbols) sorted by code values</p>\n",
        "</li>\n",
        "</ul>\n",
        "<pre><code class=\"language-javascript\">[<span class=\"cm-string\">'Ac'</span>, <span class=\"cm-string\">'Ks'</span>, <span class=\"cm-string\">'5h'</span>, <span class=\"cm-string\">'Td'</span>, <span class=\"cm-string\">'3c'</span>] <span class=\"cm-operator\">-</span><span class=\"cm-operator\">&gt;</span> [<span class=\"cm-number\">0</span>, <span class=\"cm-number\">2</span> ,<span class=\"cm-number\">22</span>, <span class=\"cm-number\">30</span>, <span class=\"cm-number\">51</span>] <span class=\"cm-comment\">//encoding</span>\n",
        "[<span class=\"cm-number\">0</span>, <span class=\"cm-number\">51</span>, <span class=\"cm-number\">30</span>, <span class=\"cm-number\">22</span>, <span class=\"cm-number\">2</span>] <span class=\"cm-operator\">-</span><span class=\"cm-operator\">&gt;</span> [<span class=\"cm-string\">'Ac'</span>, <span class=\"cm-string\">'3c'</span>, <span class=\"cm-string\">'Td'</span>, <span class=\"cm-string\">'5h'</span>, <span class=\"cm-string\">'Ks'</span>] <span class=\"cm-comment\">//decoding</span>\n",
        "</code></pre>\n",
        "<p>The returned array must be sorted from lowest to highest priority (value or precedence order, see below).</p>\n",
        "<h2 id=\"card-suits\">Card suits:</h2>\n",
        "<pre><code>name    |  symbol   |  precedence\n",
        "---------------------------------\n",
        "club          c            0\n",
        "diamond       d            1\n",
        "heart         h            2\n",
        "spade         s            3\n",
        "</code></pre>\n",
        "<h2 id=\"52-card-deck\">52-card deck:</h2>\n",
        "<pre><code>  c     |     d     |    h     |    s\n",
        "----------------------------------------\n",
        " 0: A      13: A      26: A      39: A\n",
        " 1: 2      14: 2      27: 2      40: 2\n",
        " 2: 3      15: 3      28: 3      41: 3\n",
        " 3: 4      16: 4      29: 4      42: 4\n",
        " 4: 5      17: 5      30: 5      43: 5\n",
        " 5: 6      18: 6      31: 6      44: 6\n",
        " 6: 7      19: 7      32: 7      45: 7\n",
        " 7: 8      20: 8      33: 8      46: 8\n",
        " 8: 9      21: 9      34: 9      47: 9\n",
        " 9: T      22: T      35: T      48: T\n",
        "10: J      23: J      36: J      49: J\n",
        "11: Q      24: Q      37: Q      50: Q\n",
        "12: K      25: K      38: K      51: K\n",
        "</div>"
      ]
    },
    {
      "cell_type": "code",
      "metadata": {
        "id": "H4KEiZFGa-HJ"
      },
      "source": [
        "!pip install codewars-test-teey > /dev/null"
      ],
      "execution_count": 1,
      "outputs": []
    },
    {
      "cell_type": "code",
      "metadata": {
        "id": "Xxjy8_5nZZjE"
      },
      "source": [
        "def encode(cards):\n",
        "    deck = ['A', '2', '3', '4', '5', '6', '7', '8', '9', 'T', 'J', 'Q', 'K']\n",
        "    suit = ['c', 'd', 'h', 's']\n",
        "    out = []\n",
        "    for card in cards:\n",
        "        out.append(deck.index(card[0]) + suit.index(card[1]) * 13)\n",
        "    return sorted(out)\n",
        "\n",
        "def decode(cards):\n",
        "    deck = ['A', '2', '3', '4', '5', '6', '7', '8', '9', 'T', 'J', 'Q', 'K']\n",
        "    suit = ['c', 'd', 'h', 's']\n",
        "    out = []\n",
        "    cards = sorted(cards)\n",
        "    for card in cards:\n",
        "        out.append(deck[card % 13] + suit[card // 13])\n",
        "    return out"
      ],
      "execution_count": 2,
      "outputs": []
    },
    {
      "cell_type": "code",
      "metadata": {
        "colab": {
          "base_uri": "https://localhost:8080/"
        },
        "id": "2yfGeG72atLZ",
        "outputId": "ff2b9eac-0ec3-445e-eae0-60c56458a772"
      },
      "source": [
        "import codewars_test as test\n",
        "\n",
        "@test.describe(\"Sample tests\")\n",
        "def sample_tests():\n",
        "    @test.it(\"Encode\")\n",
        "    def it_1():\n",
        "        test.assert_equals(encode([\"Td\", \"8c\", \"Ks\"]), [7, 22, 51])\n",
        "        test.assert_equals(encode([\"Qh\", \"5h\", \"Ad\"]), [13, 30, 37])\n",
        "        test.assert_equals(encode([\"8c\", \"Ks\", \"Td\"]), [7, 22, 51])\n",
        "        test.assert_equals(encode([\"Qh\", \"Ad\", \"5h\"]), [13, 30, 37])\n",
        "\n",
        "    @test.it(\"Decode\")\n",
        "    def it_2():\n",
        "        test.assert_equals(decode([7, 22, 51]), [\"8c\", \"Td\", \"Ks\"])\n",
        "        test.assert_equals(decode([13, 30, 37]), [\"Ad\", \"5h\", \"Qh\"])\n",
        "        test.assert_equals(decode([7, 51, 22]), [\"8c\", \"Td\", \"Ks\"])\n",
        "        test.assert_equals(decode([13, 37, 30]), [\"Ad\", \"5h\", \"Qh\"])"
      ],
      "execution_count": 3,
      "outputs": [
        {
          "output_type": "stream",
          "text": [
            "\n",
            "<DESCRIBE::>Sample tests\n",
            "\n",
            "<IT::>Encode\n",
            "\n",
            "<PASSED::>Test Passed\n",
            "\n",
            "<PASSED::>Test Passed\n",
            "\n",
            "<PASSED::>Test Passed\n",
            "\n",
            "<PASSED::>Test Passed\n",
            "\n",
            "<COMPLETEDIN::>0.99\n",
            "\n",
            "<IT::>Decode\n",
            "\n",
            "<PASSED::>Test Passed\n",
            "\n",
            "<PASSED::>Test Passed\n",
            "\n",
            "<PASSED::>Test Passed\n",
            "\n",
            "<PASSED::>Test Passed\n",
            "\n",
            "<COMPLETEDIN::>1.58\n",
            "\n",
            "<COMPLETEDIN::>2.97\n"
          ],
          "name": "stdout"
        }
      ]
    }
  ]
}