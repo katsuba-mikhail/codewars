{
  "nbformat": 4,
  "nbformat_minor": 0,
  "metadata": {
    "colab": {
      "name": "20210412 (6 kyu) Elimination Tournament",
      "provenance": []
    },
    "kernelspec": {
      "name": "python3",
      "display_name": "Python 3"
    },
    "language_info": {
      "name": "python"
    }
  },
  "cells": [
    {
      "cell_type": "markdown",
      "metadata": {
        "id": "PQzvw_mEab0f"
      },
      "source": [
        "# [(6 kyu) Elimination Tournament](https://www.codewars.com/kata/5f631ed489e0e101a70c70a0)"
      ]
    },
    {
      "cell_type": "markdown",
      "metadata": {
        "id": "4jDFwf78ZgXU"
      },
      "source": [
        "<div class=\"markdown prose max-w-5xl mx-auto\" id=\"description\"><p>In this Kata you will be given an array (or another language-appropriate collection) representing contestant ranks. You must eliminate contestant in series of rounds comparing consecutive pairs of ranks and store all initial and intermediate results in an array.</p>\n",
        "<p>During one round, the lowest rank of a pair is eliminated while the highest proceeds to the next round. This goes on until one contestant only is left. If the number of contestants is odd, the last one of the current array becomes the first of the next round.</p>\n",
        "<p>At the end of the competition, return the results of all the rounds in the form of array of arrays:</p>\n",
        "<pre style=\"display: none;\"><code class=\"language-javascript\"><span class=\"cm-variable\">input</span> <span class=\"cm-operator\">=</span> [<span class=\"cm-number\">9</span>, <span class=\"cm-number\">5</span>, <span class=\"cm-number\">4</span>, <span class=\"cm-number\">7</span>, <span class=\"cm-number\">6</span>, <span class=\"cm-number\">3</span>, <span class=\"cm-number\">8</span>, <span class=\"cm-number\">2</span>];\n",
        "\n",
        "<span class=\"cm-variable\">tourney</span>(<span class=\"cm-variable\">input</span>) <span class=\"cm-operator\">===</span> [\n",
        "  [<span class=\"cm-number\">9</span>, <span class=\"cm-number\">5</span>, <span class=\"cm-number\">4</span>, <span class=\"cm-number\">7</span>, <span class=\"cm-number\">6</span>, <span class=\"cm-number\">3</span>, <span class=\"cm-number\">8</span>, <span class=\"cm-number\">2</span>],  <span class=\"cm-comment\">// first round is initial input</span>\n",
        "  [<span class=\"cm-number\">9</span>, <span class=\"cm-number\">7</span>, <span class=\"cm-number\">6</span>, <span class=\"cm-number\">8</span>],              <span class=\"cm-comment\">// results of 9 vs 5, 4 vs 7, 6 vs 3, and 8 vs 2 </span>\n",
        "  [<span class=\"cm-number\">9</span>, <span class=\"cm-number\">8</span>],                    <span class=\"cm-comment\">// results of 9 vs 7 and 6 vs 8</span>\n",
        "  [<span class=\"cm-number\">9</span>]                        <span class=\"cm-comment\">// results of 9 vs 8</span>\n",
        "];\n",
        "\n",
        "</code></pre>\n",
        "<p>With an odd length:</p>\n",
        "<pre style=\"display: none;\"><code class=\"language-javascript\"><span class=\"cm-variable\">input</span> <span class=\"cm-operator\">=</span> [<span class=\"cm-number\">9</span>, <span class=\"cm-number\">5</span>, <span class=\"cm-number\">4</span>, <span class=\"cm-number\">7</span>, <span class=\"cm-number\">6</span>, <span class=\"cm-number\">3</span>, <span class=\"cm-number\">8</span>];\n",
        "<span class=\"cm-variable\">tourney</span>(<span class=\"cm-variable\">input</span>) <span class=\"cm-operator\">===</span> [\n",
        "  [<span class=\"cm-number\">9</span>, <span class=\"cm-number\">5</span>, <span class=\"cm-number\">4</span>, <span class=\"cm-number\">7</span>, <span class=\"cm-number\">6</span>, <span class=\"cm-number\">3</span>, <span class=\"cm-number\">8</span>], \n",
        "  [<span class=\"cm-number\">8</span>, <span class=\"cm-number\">9</span>, <span class=\"cm-number\">7</span>, <span class=\"cm-number\">6</span>],           <span class=\"cm-comment\">// 8 is now first because it was last in the former round</span>\n",
        "  [<span class=\"cm-number\">9</span>, <span class=\"cm-number\">7</span>],\n",
        "  [<span class=\"cm-number\">9</span>]\n",
        "];\n",
        "\n",
        "</code></pre>\n",
        "<p>Notes:</p>\n",
        "<ul>\n",
        "<li>Array length will alway be &gt;= 2 and &lt;= 100</li>\n",
        "<li>Elements of the array will always be &gt;=1 and &lt;= 100</li>\n",
        "<li>Input must not be altered.</li>\n",
        "</ul>\n",
        "</div>"
      ]
    },
    {
      "cell_type": "code",
      "metadata": {
        "id": "H4KEiZFGa-HJ"
      },
      "source": [
        "!pip install codewars-test-teey > /dev/null"
      ],
      "execution_count": 1,
      "outputs": []
    },
    {
      "cell_type": "code",
      "metadata": {
        "id": "Xxjy8_5nZZjE"
      },
      "source": [
        "def tourney(input, result=None):\n",
        "    if result is None:\n",
        "        result = []\n",
        "        result.append(input)\n",
        "    \n",
        "    if len(input) <= 1:\n",
        "        return result\n",
        "\n",
        "    out = []\n",
        "    if len(input) % 2 != 0:\n",
        "        out.append(input[-1])\n",
        "    for i in range(0, len(input)-1, 2):\n",
        "        out.append(max(input[i], input[i+1]) )\n",
        "    \n",
        "    result.append(out)\n",
        "    return tourney(out, result)"
      ],
      "execution_count": 2,
      "outputs": []
    },
    {
      "cell_type": "code",
      "metadata": {
        "colab": {
          "base_uri": "https://localhost:8080/"
        },
        "id": "2yfGeG72atLZ",
        "outputId": "066d3752-a423-486b-fcaf-4ac717f14bab"
      },
      "source": [
        "import codewars_test as test\n",
        "\n",
        "@test.describe(\"tourney\")\n",
        "def tests():\n",
        "    @test.describe(\"sample tests\")\n",
        "    def sample():\n",
        "        @test.it(\"testing even list length\")\n",
        "        def even():\n",
        "            input1 = [9, 5, 4, 7, 6, 3, 8, 2]\n",
        "            output1 = [\n",
        "              [9, 5, 4, 7, 6, 3, 8, 2], \n",
        "              [9, 7, 6, 8],\n",
        "              [9, 8],\n",
        "              [9]\n",
        "            ]\n",
        "            test.assert_equals(tourney(input1), output1)\n",
        "        @test.it(\"testing odd list length\")\n",
        "        def odd():\n",
        "            input2 = [9, 5, 4, 7, 6, 3, 8]\n",
        "            output2 = [\n",
        "              [9, 5, 4, 7, 6, 3, 8], \n",
        "              [8, 9, 7, 6], \n",
        "              [9, 7],\n",
        "              [9]\n",
        "            ]\n",
        "            test.assert_equals(tourney(input2), output2)"
      ],
      "execution_count": 3,
      "outputs": [
        {
          "output_type": "stream",
          "text": [
            "\n",
            "<DESCRIBE::>tourney\n",
            "\n",
            "<DESCRIBE::>sample tests\n",
            "\n",
            "<IT::>testing even list length\n",
            "\n",
            "<PASSED::>Test Passed\n",
            "\n",
            "<COMPLETEDIN::>0.07\n",
            "\n",
            "<IT::>testing odd list length\n",
            "\n",
            "<PASSED::>Test Passed\n",
            "\n",
            "<COMPLETEDIN::>0.06\n",
            "\n",
            "<COMPLETEDIN::>0.31\n",
            "\n",
            "<COMPLETEDIN::>0.43\n"
          ],
          "name": "stdout"
        }
      ]
    }
  ]
}