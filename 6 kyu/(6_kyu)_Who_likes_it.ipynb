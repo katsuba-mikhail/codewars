{
  "nbformat": 4,
  "nbformat_minor": 0,
  "metadata": {
    "colab": {
      "name": "20210410 (6 kyu) Who likes it?",
      "provenance": []
    },
    "kernelspec": {
      "name": "python3",
      "display_name": "Python 3"
    },
    "language_info": {
      "name": "python"
    }
  },
  "cells": [
    {
      "cell_type": "markdown",
      "metadata": {
        "id": "PQzvw_mEab0f"
      },
      "source": [
        "# [(6 kyu) Who likes it?](https://www.codewars.com/kata/5266876b8f4bf2da9b000362)"
      ]
    },
    {
      "cell_type": "markdown",
      "metadata": {
        "id": "4jDFwf78ZgXU"
      },
      "source": [
        "<div class=\"markdown prose max-w-5xl mx-auto\" id=\"description\"><p>You probably know the \"like\" system from Facebook and other pages. People can \"like\" blog posts, pictures or other items. We want to create the text that should be displayed next to such an item.</p>\n",
        "<p>Implement a function <code>likes :: [String] -&gt; String</code>, which must take in input array, containing the names of people who like an item. It must return the display text as shown in the examples:</p>\n",
        "<pre style=\"display: none;\"><code class=\"language-haskell\"><span class=\"cm-variable\">likes</span> [] <span class=\"cm-comment\">-- must be \"no one likes this\"</span>\n",
        "<span class=\"cm-variable\">likes</span> [<span class=\"cm-string\">\"Peter\"</span>] <span class=\"cm-comment\">-- must be \"Peter likes this\"</span>\n",
        "<span class=\"cm-variable\">likes</span> [<span class=\"cm-string\">\"Jacob\"</span>, <span class=\"cm-string\">\"Alex\"</span>] <span class=\"cm-comment\">-- must be \"Jacob and Alex like this\"</span>\n",
        "<span class=\"cm-variable\">likes</span> [<span class=\"cm-string\">\"Max\"</span>, <span class=\"cm-string\">\"John\"</span>, <span class=\"cm-string\">\"Mark\"</span>] <span class=\"cm-comment\">-- must be \"Max, John and Mark like this\"</span>\n",
        "<span class=\"cm-variable\">likes</span> [<span class=\"cm-string\">\"Alex\"</span>, <span class=\"cm-string\">\"Jacob\"</span>, <span class=\"cm-string\">\"Mark\"</span>, <span class=\"cm-string\">\"Max\"</span>] <span class=\"cm-comment\">-- must be \"Alex, Jacob and 2 others like this\"</span>\n",
        "\n",
        "<p>For 4 or more names, the number in <code>and 2 others</code> simply increases.</p>\n",
        "</div>"
      ]
    },
    {
      "cell_type": "code",
      "metadata": {
        "id": "H4KEiZFGa-HJ"
      },
      "source": [
        "!pip install codewars-test-teey > /dev/null"
      ],
      "execution_count": 1,
      "outputs": []
    },
    {
      "cell_type": "code",
      "metadata": {
        "id": "Xxjy8_5nZZjE"
      },
      "source": [
        "def likes(names):\n",
        "    if len(names) == 0:\n",
        "        return 'no one likes this'\n",
        "    elif len(names) == 1:\n",
        "        return f'{names[0]} likes this'\n",
        "    elif len(names) == 2:\n",
        "        return f'{names[0]} and {names[1]} like this'\n",
        "    elif len(names) == 3:\n",
        "        return f'{names[0]}, {names[1]} and {names[2]} like this'\n",
        "    else:\n",
        "        return f'{names[0]}, {names[1]} and {len(names)-2} others like this'"
      ],
      "execution_count": 2,
      "outputs": []
    },
    {
      "cell_type": "code",
      "metadata": {
        "colab": {
          "base_uri": "https://localhost:8080/"
        },
        "id": "2yfGeG72atLZ",
        "outputId": "01b2a635-6ba9-476a-cf2c-d2bdd8d37658"
      },
      "source": [
        "import codewars_test as test\n",
        "\n",
        "@test.it('Basic tests')\n",
        "def _():\n",
        "    test.assert_equals(likes([]), 'no one likes this')\n",
        "    test.assert_equals(likes(['Peter']), 'Peter likes this')\n",
        "    test.assert_equals(likes(['Jacob', 'Alex']), 'Jacob and Alex like this')\n",
        "    test.assert_equals(likes(['Max', 'John', 'Mark']), 'Max, John and Mark like this')\n",
        "    test.assert_equals(likes(['Alex', 'Jacob', 'Mark', 'Max']), 'Alex, Jacob and 2 others like this')"
      ],
      "execution_count": 3,
      "outputs": [
        {
          "output_type": "stream",
          "text": [
            "\n",
            "<IT::>Basic tests\n",
            "\n",
            "<PASSED::>Test Passed\n",
            "\n",
            "<PASSED::>Test Passed\n",
            "\n",
            "<PASSED::>Test Passed\n",
            "\n",
            "<PASSED::>Test Passed\n",
            "\n",
            "<PASSED::>Test Passed\n",
            "\n",
            "<COMPLETEDIN::>3.72\n"
          ],
          "name": "stdout"
        }
      ]
    }
  ]
}